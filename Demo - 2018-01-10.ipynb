{
 "cells": [
  {
   "cell_type": "code",
   "execution_count": 2,
   "metadata": {
    "collapsed": true
   },
   "outputs": [],
   "source": [
    "import pandas as pd\n",
    "import numpy as np\n",
    "from pandas import DataFrame, Series\n",
    "from sklearn.linear_model import LinearRegression\n",
    "from sklearn.datasets import make_regression"
   ]
  },
  {
   "cell_type": "code",
   "execution_count": 7,
   "metadata": {},
   "outputs": [],
   "source": [
    "X, Y = make_regression()"
   ]
  },
  {
   "cell_type": "code",
   "execution_count": 8,
   "metadata": {},
   "outputs": [
    {
     "data": {
      "text/plain": [
       "(100, 100)"
      ]
     },
     "execution_count": 8,
     "metadata": {},
     "output_type": "execute_result"
    }
   ],
   "source": [
    "X.shape"
   ]
  },
  {
   "cell_type": "code",
   "execution_count": 9,
   "metadata": {},
   "outputs": [
    {
     "data": {
      "text/plain": [
       "(100,)"
      ]
     },
     "execution_count": 9,
     "metadata": {},
     "output_type": "execute_result"
    }
   ],
   "source": [
    "Y.shape"
   ]
  },
  {
   "cell_type": "markdown",
   "metadata": {},
   "source": [
    "### Splitting our dataset into train/test sets "
   ]
  },
  {
   "cell_type": "code",
   "execution_count": 10,
   "metadata": {
    "collapsed": true
   },
   "outputs": [],
   "source": [
    "from sklearn.model_selection import train_test_split"
   ]
  },
  {
   "cell_type": "code",
   "execution_count": 11,
   "metadata": {
    "collapsed": true
   },
   "outputs": [],
   "source": [
    "X_train, X_test, y_train, y_test = train_test_split(X, Y, test_size=0.25, random_state=42)"
   ]
  },
  {
   "cell_type": "code",
   "execution_count": 12,
   "metadata": {},
   "outputs": [
    {
     "data": {
      "text/plain": [
       "(25, 100)"
      ]
     },
     "execution_count": 12,
     "metadata": {},
     "output_type": "execute_result"
    }
   ],
   "source": [
    "X_test.shape"
   ]
  },
  {
   "cell_type": "markdown",
   "metadata": {},
   "source": [
    "### Train the Regressor! "
   ]
  },
  {
   "cell_type": "markdown",
   "metadata": {},
   "source": [
    "$$ y = \\beta X + \\epsilon$$\n",
    "\n",
    "predicted:\n",
    "\n",
    "$$ \\hat{y} = f(X) = \\hat{\\beta} X $$"
   ]
  },
  {
   "cell_type": "code",
   "execution_count": 13,
   "metadata": {
    "collapsed": true
   },
   "outputs": [],
   "source": [
    "# initialize our regressor object\n",
    "reg = LinearRegression()"
   ]
  },
  {
   "cell_type": "code",
   "execution_count": 14,
   "metadata": {},
   "outputs": [
    {
     "data": {
      "text/plain": [
       "LinearRegression(copy_X=True, fit_intercept=True, n_jobs=1, normalize=False)"
      ]
     },
     "execution_count": 14,
     "metadata": {},
     "output_type": "execute_result"
    }
   ],
   "source": [
    "# train the model\n",
    "reg.fit(X_train, y_train)"
   ]
  },
  {
   "cell_type": "code",
   "execution_count": 17,
   "metadata": {},
   "outputs": [
    {
     "data": {
      "text/plain": [
       "array([ -6.66813258e+00,   9.63658751e+00,   8.52519826e+01,\n",
       "         2.21036084e+01,   5.51977852e+00,   7.94430633e+00,\n",
       "        -1.27053416e+01,  -2.81699696e+00,   2.19125340e+00,\n",
       "         6.11923318e+00,   7.37616001e+00,   8.54624367e+00,\n",
       "        -5.87348162e+00,  -2.40520841e+01,   4.63272494e+00,\n",
       "         8.89729247e-01,   1.13325757e+01,  -5.80458757e+00,\n",
       "        -6.66614752e+00,   1.26982699e+01,   5.55040854e+00,\n",
       "         9.22811459e+00,   6.00696134e+01,  -7.69397904e+00,\n",
       "         1.81293054e+01,  -4.44376221e+00,   2.75817444e-02,\n",
       "        -1.04918267e+00,  -7.99904335e+00,  -8.88124979e+00,\n",
       "        -8.28054501e-01,   1.12441437e+01,  -1.12345590e+01,\n",
       "         4.73072500e+00,  -6.33390106e+00,  -3.15823662e+00,\n",
       "        -7.23110519e+00,  -6.18079179e+00,  -5.59717367e+00,\n",
       "        -6.01925079e+00,  -1.66441497e+00,  -1.54254481e+01,\n",
       "         1.23225962e+00,  -2.95339842e+00,  -2.71500493e+00,\n",
       "        -2.99730014e+00,   1.23286866e+01,   5.56540470e+00,\n",
       "         6.19927170e+00,  -1.01527539e+01,  -7.62866294e-01,\n",
       "         1.23346016e+01,  -4.54690852e+00,  -8.67241970e+00,\n",
       "         3.29474532e+00,   9.82386877e+00,   7.67049465e+00,\n",
       "        -5.91732975e+00,   2.11484968e+00,   6.45554941e+00,\n",
       "        -1.55998647e+01,   3.82422179e+01,   3.70841396e+00,\n",
       "         5.38662368e+00,   4.53513978e+00,   1.35648634e+01,\n",
       "        -2.95799984e-01,   3.57920649e+00,   1.36747945e+01,\n",
       "         5.51241455e+01,   1.87529222e+00,  -1.13904310e+01,\n",
       "         4.19581186e+00,  -1.45767755e+01,   1.18202069e+01,\n",
       "        -7.67698942e+00,   5.12570986e+00,  -4.11736589e+00,\n",
       "        -3.29870830e+00,  -3.97234529e+00,   2.05824752e+00,\n",
       "         1.36351520e+01,  -1.37266365e+01,  -8.95545758e+00,\n",
       "         8.27035464e+00,   1.50951071e+01,   1.96981531e+00,\n",
       "        -5.83683492e+00,   7.66988040e+00,   3.00616273e+01,\n",
       "         7.08451569e+00,   2.06083921e-01,   7.49658398e-01,\n",
       "         2.76528845e+00,   7.16047062e+00,  -8.22834314e+00,\n",
       "        -6.32373186e+00,   1.02063595e+00,   2.26142473e+00,\n",
       "         1.41409372e+01])"
      ]
     },
     "execution_count": 17,
     "metadata": {},
     "output_type": "execute_result"
    }
   ],
   "source": [
    "# betas\n",
    "reg.coef_"
   ]
  },
  {
   "cell_type": "markdown",
   "metadata": {},
   "source": [
    "### Predict on the test data "
   ]
  },
  {
   "cell_type": "code",
   "execution_count": 18,
   "metadata": {
    "collapsed": true
   },
   "outputs": [],
   "source": [
    "y_test_predicted = reg.predict(X_test)"
   ]
  },
  {
   "cell_type": "code",
   "execution_count": 19,
   "metadata": {},
   "outputs": [
    {
     "data": {
      "text/plain": [
       "array([ 247.73172777,  -34.88129585,   18.93765081,  -93.50168546,\n",
       "       -118.14313985,  -85.81539809, -173.99515528,  301.88488537,\n",
       "          1.13676145, -231.62557168,  161.22530565,  -51.81006009,\n",
       "        261.72078331,  -43.55829526,  141.18602089, -185.73826924,\n",
       "         85.61991103,  264.13539784,  257.58454739, -375.81563071,\n",
       "         55.29361013,  -52.56343375,    3.29243411,   83.04120241,\n",
       "        -16.0835407 ])"
      ]
     },
     "execution_count": 19,
     "metadata": {},
     "output_type": "execute_result"
    }
   ],
   "source": [
    "y_test"
   ]
  },
  {
   "cell_type": "code",
   "execution_count": 20,
   "metadata": {},
   "outputs": [
    {
     "data": {
      "text/plain": [
       "array([ 199.05670309,   31.76427738,  -67.54235394,  -46.66422697,\n",
       "         59.49448647, -150.39697464,  -94.98957795,  184.87363669,\n",
       "       -134.08463658, -222.88771539,  158.28479016,  -23.71783506,\n",
       "        214.11982582,  -48.29268977,   16.43048614,  -69.91204636,\n",
       "         91.36985228,  135.53877228,  342.0451449 , -239.37783127,\n",
       "        139.13232568,  -47.28934229,  -26.04210693,  218.0794353 ,\n",
       "         98.00227076])"
      ]
     },
     "execution_count": 20,
     "metadata": {},
     "output_type": "execute_result"
    }
   ],
   "source": [
    "y_test_predicted"
   ]
  },
  {
   "cell_type": "code",
   "execution_count": 25,
   "metadata": {
    "collapsed": true
   },
   "outputs": [],
   "source": [
    "mse = ((y_test - y_test_predicted)**2).sum()"
   ]
  },
  {
   "cell_type": "code",
   "execution_count": 26,
   "metadata": {},
   "outputs": [
    {
     "data": {
      "text/plain": [
       "204056.94629539628"
      ]
     },
     "execution_count": 26,
     "metadata": {},
     "output_type": "execute_result"
    }
   ],
   "source": [
    "mse"
   ]
  }
 ],
 "metadata": {
  "kernelspec": {
   "display_name": "Python 3",
   "language": "python",
   "name": "python3"
  },
  "language_info": {
   "codemirror_mode": {
    "name": "ipython",
    "version": 3
   },
   "file_extension": ".py",
   "mimetype": "text/x-python",
   "name": "python",
   "nbconvert_exporter": "python",
   "pygments_lexer": "ipython3",
   "version": "3.6.2"
  }
 },
 "nbformat": 4,
 "nbformat_minor": 2
}
